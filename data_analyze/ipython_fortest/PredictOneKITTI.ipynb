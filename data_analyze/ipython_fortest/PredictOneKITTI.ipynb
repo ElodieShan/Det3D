{
 "cells": [
  {
   "cell_type": "code",
   "execution_count": 1,
   "metadata": {},
   "outputs": [],
   "source": [
    "v_path = \"/home/elodie/KITTI_DATASET_NEW/object/training/velodyne/006629.bin\""
   ]
  },
  {
   "cell_type": "code",
   "execution_count": 2,
   "metadata": {},
   "outputs": [],
   "source": [
    "#单帧预测\n",
    "import argparse\n",
    "import json\n",
    "import os\n",
    "import sys\n",
    "\n",
    "import apex\n",
    "import numpy as np\n",
    "import torch\n",
    "import yaml\n",
    "from det3d import __version__, torchie\n",
    "from det3d.datasets import build_dataloader, build_dataset\n",
    "from det3d.datasets.kitti import kitti_common as kitti\n",
    "from det3d.models import build_detector\n",
    "from det3d.torchie import Config\n",
    "from det3d.torchie.apis import (\n",
    "    batch_processor,\n",
    "    build_optimizer,\n",
    "    get_root_logger,\n",
    "    init_dist,\n",
    "    set_random_seed,\n",
    "    train_detector,\n",
    ")\n",
    "from det3d.torchie.trainer import get_dist_info, load_checkpoint\n",
    "from det3d.torchie.trainer.utils import all_gather, synchronize\n",
    "from torch.nn.parallel import DistributedDataParallel\n",
    "\n",
    "from det3d.core.input.voxel_generator import VoxelGenerator\n",
    "from det3d.core.anchor.target_assigner import TargetAssigner\n",
    "\n",
    "from det3d.utils.config_tool import get_downsample_factor\n",
    "from det3d.builder import (\n",
    "    build_box_coder,\n",
    "    build_anchor_generator,\n",
    "    build_box_coder,\n",
    "    build_similarity_metric,\n",
    ")\n",
    "\n",
    "from det3d.torchie.apis.train import example_to_device\n",
    "from det3d.core import box_np_ops"
   ]
  },
  {
   "cell_type": "code",
   "execution_count": 3,
   "metadata": {
    "scrolled": true
   },
   "outputs": [
    {
     "name": "stdout",
     "output_type": "stream",
     "text": [
      "[[ 1.498271  2.58771  -1.276035 -1.      ]\n",
      " [ 1.608032  2.777282 -1.256756 -1.      ]\n",
      " [ 1.720107  2.970851 -1.232397 -1.      ]\n",
      " ...\n",
      " [ 4.606846 -7.956643 -0.943417 -1.      ]\n",
      " [ 5.334702 -9.213749 -0.803431 -1.      ]\n",
      " [ 5.468897 -9.445521 -0.664144 -1.      ]]\n"
     ]
    }
   ],
   "source": [
    "\n",
    "# 1574850494.180713337\n",
    "filepath = \"/home/elodie/bags/test_points_rotate2.txt\"\n",
    "points = np.loadtxt(filepath,delimiter=' ')\n",
    "\n",
    "# points = np.fromfile(\n",
    "#     v_path, dtype=np.float32, count=-1).reshape([-1, 4])\n",
    "print(points)"
   ]
  },
  {
   "cell_type": "code",
   "execution_count": 4,
   "metadata": {},
   "outputs": [],
   "source": [
    "def parse_args():\n",
    "    parser = argparse.ArgumentParser(description=\"Train a detector\")\n",
    "    parser.add_argument(\"config\", help=\"train config file path\")\n",
    "    parser.add_argument(\"--work_dir\", help=\"the dir to save logs and models\")\n",
    "    parser.add_argument(\n",
    "        \"--checkpoint\", help=\"the dir to checkpoint which the model read from\"\n",
    "    )\n",
    "    parser.add_argument(\n",
    "        \"--txt_result\",\n",
    "        type=bool,\n",
    "        default=False,\n",
    "        help=\"whether to save results to standard KITTI format of txt type\",\n",
    "    )\n",
    "    parser.add_argument(\n",
    "        \"--gpus\",\n",
    "        type=int,\n",
    "        default=1,\n",
    "        help=\"number of gpus to use \" \"(only applicable to non-distributed training)\",\n",
    "    )\n",
    "    parser.add_argument(\n",
    "        \"--launcher\",\n",
    "        choices=[\"none\", \"pytorch\", \"slurm\", \"mpi\"],\n",
    "        default=\"none\",\n",
    "        help=\"job launcher\",\n",
    "    )\n",
    "    parser.add_argument(\"--local_rank\", type=int, default=0)\n",
    "\n",
    "    #args = parser.parse_args() #elodie\n",
    "\n",
    "    #args = parser.parse_args('examples/second/configs/kitti_all_vfev3_spmiddlefhd_rpn1_mghead_syncbn.py --work_dir /home/elodie/det3D_Output/Outputs/Det3D_Outputs/SECOND_all_3_20200220-101802 --checkpoint /home/elodie/det3D_Output/Outputs/Det3D_Outputs/SECOND_all_3_20200220-101802/latest.pth --txt_result True'.split())\n",
    "    args = parser.parse_args('examples/second/configs/kitti_all_vfev3_spmiddlefhd_rpn1_mghead_syncbn_freatures3.py --work_dir /home/elodie/model_pth/SECOND_F3_all_1_20200305-093312 --checkpoint /home/elodie/model_pth/SECOND_F3_all_1_20200305-093312/latest.pth --txt_result True'.split())\n",
    "\n",
    "    if \"LOCAL_RANK\" not in os.environ:\n",
    "        os.environ[\"LOCAL_RANK\"] = str(args.local_rank)\n",
    "\n",
    "    return args"
   ]
  },
  {
   "cell_type": "code",
   "execution_count": 5,
   "metadata": {},
   "outputs": [],
   "source": [
    "device = torch.device(\"cuda\" if torch.cuda.is_available() else \"cpu\")"
   ]
  },
  {
   "cell_type": "code",
   "execution_count": 6,
   "metadata": {},
   "outputs": [],
   "source": [
    "args = parse_args()\n",
    "cfg = Config.fromfile(args.config)\n",
    "cfg.local_rank = args.local_rank\n",
    "# update configs according to CLI args\n",
    "if args.work_dir is not None:\n",
    "    cfg.work_dir = args.work_dir\n",
    "#print(\"Config:\\n cfg.local_rank:\",cfg.local_rank,\"\\ncfg.data.val:\",cfg.data.val)"
   ]
  },
  {
   "cell_type": "code",
   "execution_count": 7,
   "metadata": {},
   "outputs": [
    {
     "name": "stdout",
     "output_type": "stream",
     "text": [
      "distributed: False\n",
      "cfg.gpus: 1\n"
     ]
    }
   ],
   "source": [
    "distributed = False\n",
    "if \"WORLD_SIZE\" in os.environ:\n",
    "    distributed = int(os.environ[\"WORLD_SIZE\"]) > 1\n",
    "print(\"distributed:\",distributed)\n",
    "if distributed:\n",
    "    torch.cuda.set_device(args.local_rank)\n",
    "    torch.distributed.init_process_group(backend=\"nccl\", init_method=\"env://\")\n",
    "\n",
    "    cfg.gpus = torch.distributed.get_world_size()\n",
    "else:\n",
    "    cfg.gpus = args.gpus\n",
    "print(\"cfg.gpus:\",cfg.gpus)\n",
    "logger = get_root_logger(cfg.log_level)"
   ]
  },
  {
   "cell_type": "code",
   "execution_count": 8,
   "metadata": {},
   "outputs": [
    {
     "name": "stderr",
     "output_type": "stream",
     "text": [
      "2020-03-20 15:00:10,637 - INFO - Finish RPN Initialization\n",
      "2020-03-20 15:00:10,638 - INFO - num_classes: [1, 1, 1], num_preds: [14, 14, 14], num_dirs: [4, 4, 4]\n",
      "2020-03-20 15:00:10,640 - INFO - Finish MultiGroupHead Initialization\n"
     ]
    },
    {
     "data": {
      "text/plain": [
       "VoxelNet(\n",
       "  (reader): VoxelFeatureExtractorV3()\n",
       "  (backbone): SpMiddleFHD(\n",
       "    (middle_conv): SparseSequential(\n",
       "      (0): SubMConv3d()\n",
       "      (1): BatchNorm1d(16, eps=0.001, momentum=0.01, affine=True, track_running_stats=True)\n",
       "      (2): ReLU()\n",
       "      (3): SubMConv3d()\n",
       "      (4): BatchNorm1d(16, eps=0.001, momentum=0.01, affine=True, track_running_stats=True)\n",
       "      (5): ReLU()\n",
       "      (6): SparseConv3d()\n",
       "      (7): BatchNorm1d(32, eps=0.001, momentum=0.01, affine=True, track_running_stats=True)\n",
       "      (8): ReLU()\n",
       "      (9): SubMConv3d()\n",
       "      (10): BatchNorm1d(32, eps=0.001, momentum=0.01, affine=True, track_running_stats=True)\n",
       "      (11): ReLU()\n",
       "      (12): SubMConv3d()\n",
       "      (13): BatchNorm1d(32, eps=0.001, momentum=0.01, affine=True, track_running_stats=True)\n",
       "      (14): ReLU()\n",
       "      (15): SparseConv3d()\n",
       "      (16): BatchNorm1d(64, eps=0.001, momentum=0.01, affine=True, track_running_stats=True)\n",
       "      (17): ReLU()\n",
       "      (18): SubMConv3d()\n",
       "      (19): BatchNorm1d(64, eps=0.001, momentum=0.01, affine=True, track_running_stats=True)\n",
       "      (20): ReLU()\n",
       "      (21): SubMConv3d()\n",
       "      (22): BatchNorm1d(64, eps=0.001, momentum=0.01, affine=True, track_running_stats=True)\n",
       "      (23): ReLU()\n",
       "      (24): SubMConv3d()\n",
       "      (25): BatchNorm1d(64, eps=0.001, momentum=0.01, affine=True, track_running_stats=True)\n",
       "      (26): ReLU()\n",
       "      (27): SparseConv3d()\n",
       "      (28): BatchNorm1d(64, eps=0.001, momentum=0.01, affine=True, track_running_stats=True)\n",
       "      (29): ReLU()\n",
       "      (30): SubMConv3d()\n",
       "      (31): BatchNorm1d(64, eps=0.001, momentum=0.01, affine=True, track_running_stats=True)\n",
       "      (32): ReLU()\n",
       "      (33): SubMConv3d()\n",
       "      (34): BatchNorm1d(64, eps=0.001, momentum=0.01, affine=True, track_running_stats=True)\n",
       "      (35): ReLU()\n",
       "      (36): SubMConv3d()\n",
       "      (37): BatchNorm1d(64, eps=0.001, momentum=0.01, affine=True, track_running_stats=True)\n",
       "      (38): ReLU()\n",
       "      (39): SparseConv3d()\n",
       "      (40): BatchNorm1d(64, eps=0.001, momentum=0.01, affine=True, track_running_stats=True)\n",
       "      (41): ReLU()\n",
       "    )\n",
       "  )\n",
       "  (neck): RPN(\n",
       "    (blocks): ModuleList(\n",
       "      (0): Sequential(\n",
       "        (0): ZeroPad2d(padding=(1, 1, 1, 1), value=0.0)\n",
       "        (1): Conv2d(128, 128, kernel_size=(3, 3), stride=(1, 1), bias=False)\n",
       "        (2): BatchNorm2d(128, eps=0.001, momentum=0.01, affine=True, track_running_stats=True)\n",
       "        (3): ReLU()\n",
       "        (4): Conv2d(128, 128, kernel_size=(3, 3), stride=(1, 1), padding=(1, 1), bias=False)\n",
       "        (5): BatchNorm2d(128, eps=0.001, momentum=0.01, affine=True, track_running_stats=True)\n",
       "        (6): ReLU()\n",
       "        (7): Conv2d(128, 128, kernel_size=(3, 3), stride=(1, 1), padding=(1, 1), bias=False)\n",
       "        (8): BatchNorm2d(128, eps=0.001, momentum=0.01, affine=True, track_running_stats=True)\n",
       "        (9): ReLU()\n",
       "        (10): Conv2d(128, 128, kernel_size=(3, 3), stride=(1, 1), padding=(1, 1), bias=False)\n",
       "        (11): BatchNorm2d(128, eps=0.001, momentum=0.01, affine=True, track_running_stats=True)\n",
       "        (12): ReLU()\n",
       "        (13): Conv2d(128, 128, kernel_size=(3, 3), stride=(1, 1), padding=(1, 1), bias=False)\n",
       "        (14): BatchNorm2d(128, eps=0.001, momentum=0.01, affine=True, track_running_stats=True)\n",
       "        (15): ReLU()\n",
       "        (16): Conv2d(128, 128, kernel_size=(3, 3), stride=(1, 1), padding=(1, 1), bias=False)\n",
       "        (17): BatchNorm2d(128, eps=0.001, momentum=0.01, affine=True, track_running_stats=True)\n",
       "        (18): ReLU()\n",
       "      )\n",
       "    )\n",
       "    (deblocks): ModuleList(\n",
       "      (0): Sequential(\n",
       "        (0): Conv2d(128, 128, kernel_size=(1, 1), stride=(1, 1), bias=False)\n",
       "        (1): BatchNorm2d(128, eps=0.001, momentum=0.01, affine=True, track_running_stats=True)\n",
       "        (2): ReLU()\n",
       "      )\n",
       "    )\n",
       "  )\n",
       "  (bbox_head): MultiGroupHead(\n",
       "    (loss_cls): SigmoidFocalLoss()\n",
       "    (loss_reg): WeightedSmoothL1Loss()\n",
       "    (loss_aux): WeightedSoftmaxClassificationLoss()\n",
       "    (tasks): ModuleList(\n",
       "      (0): Head(\n",
       "        (conv_box): Conv2d(128, 14, kernel_size=(1, 1), stride=(1, 1))\n",
       "        (conv_cls): Conv2d(128, 2, kernel_size=(1, 1), stride=(1, 1))\n",
       "        (conv_dir): Conv2d(128, 4, kernel_size=(1, 1), stride=(1, 1))\n",
       "      )\n",
       "      (1): Head(\n",
       "        (conv_box): Conv2d(128, 14, kernel_size=(1, 1), stride=(1, 1))\n",
       "        (conv_cls): Conv2d(128, 2, kernel_size=(1, 1), stride=(1, 1))\n",
       "        (conv_dir): Conv2d(128, 4, kernel_size=(1, 1), stride=(1, 1))\n",
       "      )\n",
       "      (2): Head(\n",
       "        (conv_box): Conv2d(128, 14, kernel_size=(1, 1), stride=(1, 1))\n",
       "        (conv_cls): Conv2d(128, 2, kernel_size=(1, 1), stride=(1, 1))\n",
       "        (conv_dir): Conv2d(128, 4, kernel_size=(1, 1), stride=(1, 1))\n",
       "      )\n",
       "    )\n",
       "  )\n",
       ")"
      ]
     },
     "execution_count": 8,
     "metadata": {},
     "output_type": "execute_result"
    }
   ],
   "source": [
    "#load model\n",
    "model = build_detector(cfg.model, train_cfg=None, test_cfg=cfg.test_cfg)\n",
    "checkpoint = load_checkpoint(model, args.checkpoint, map_location=\"cpu\")\n",
    "model = model.cuda()#cuda()函数都能实现从CPU到GPU的内存迁移,对model自身进行的内存迁移。\n",
    "model.eval()"
   ]
  },
  {
   "cell_type": "code",
   "execution_count": 9,
   "metadata": {},
   "outputs": [],
   "source": [
    "my_voxel_generator = VoxelGenerator(\n",
    "    voxel_size=[0.05, 0.05, 0.1],\n",
    "    point_cloud_range=[0, -40.0, -3.0, 70.4, 40.0, 1.0],\n",
    "    max_num_points=5,\n",
    "    max_voxels=40000,\n",
    ")\n",
    "#     voxel_generator = VoxelGenerator(\n",
    "#         voxel_size=voxel_config.VOXEL_SIZE,\n",
    "#         point_cloud_range=voxel_config.RANGE,\n",
    "#         max_num_points=voxel_config.MAX_POINTS_NUM_PER_VOXEL,\n",
    "#         max_voxels=20000,\n",
    "#     )"
   ]
  },
  {
   "cell_type": "code",
   "execution_count": 10,
   "metadata": {},
   "outputs": [],
   "source": [
    "voxels, coords, num_points = my_voxel_generator.generate(points)#num_points：num_points_per_voxel\n",
    "num_voxels = np.array([voxels.shape[0]], dtype=np.int64)\n",
    "# num_voxels = np.array([res[\"voxel_num\"]], dtype=np.int64)"
   ]
  },
  {
   "cell_type": "code",
   "execution_count": 11,
   "metadata": {},
   "outputs": [
    {
     "name": "stdout",
     "output_type": "stream",
     "text": [
      "[1408 1600   40]\n",
      "[1, 200, 176]\n"
     ]
    }
   ],
   "source": [
    "grid_size = my_voxel_generator.grid_size\n",
    "print(grid_size)\n",
    "feature_map_size = grid_size[:2] // get_downsample_factor(cfg.model)\n",
    "feature_map_size = [*feature_map_size, 1][::-1]\n",
    "print(feature_map_size)"
   ]
  },
  {
   "cell_type": "code",
   "execution_count": 12,
   "metadata": {},
   "outputs": [
    {
     "name": "stdout",
     "output_type": "stream",
     "text": [
      "[tensor([[[  0.2000, -39.8000,  -1.0000,  ...,   3.9000,   1.5600,   0.0000],\n",
      "         [  0.2000, -39.8000,  -1.0000,  ...,   3.9000,   1.5600,   1.5700],\n",
      "         [  0.6000, -39.8000,  -1.0000,  ...,   3.9000,   1.5600,   0.0000],\n",
      "         ...,\n",
      "         [ 69.8000,  39.8000,  -1.0000,  ...,   3.9000,   1.5600,   1.5700],\n",
      "         [ 70.2000,  39.8000,  -1.0000,  ...,   3.9000,   1.5600,   0.0000],\n",
      "         [ 70.2000,  39.8000,  -1.0000,  ...,   3.9000,   1.5600,   1.5700]]],\n",
      "       device='cuda:0'), tensor([[[  0.2000, -39.8000,  -0.6000,  ...,   0.8000,   1.7300,   0.0000],\n",
      "         [  0.2000, -39.8000,  -0.6000,  ...,   0.8000,   1.7300,   1.5700],\n",
      "         [  0.6000, -39.8000,  -0.6000,  ...,   0.8000,   1.7300,   0.0000],\n",
      "         ...,\n",
      "         [ 69.8000,  39.8000,  -0.6000,  ...,   0.8000,   1.7300,   1.5700],\n",
      "         [ 70.2000,  39.8000,  -0.6000,  ...,   0.8000,   1.7300,   0.0000],\n",
      "         [ 70.2000,  39.8000,  -0.6000,  ...,   0.8000,   1.7300,   1.5700]]],\n",
      "       device='cuda:0'), tensor([[[  0.2000, -39.8000,  -0.6000,  ...,   1.7600,   1.7300,   0.0000],\n",
      "         [  0.2000, -39.8000,  -0.6000,  ...,   1.7600,   1.7300,   1.5700],\n",
      "         [  0.6000, -39.8000,  -0.6000,  ...,   1.7600,   1.7300,   0.0000],\n",
      "         ...,\n",
      "         [ 69.8000,  39.8000,  -0.6000,  ...,   1.7600,   1.7300,   1.5700],\n",
      "         [ 70.2000,  39.8000,  -0.6000,  ...,   1.7600,   1.7300,   0.0000],\n",
      "         [ 70.2000,  39.8000,  -0.6000,  ...,   1.7600,   1.7300,   1.5700]]],\n",
      "       device='cuda:0')]\n"
     ]
    }
   ],
   "source": [
    "box_coder = build_box_coder(cfg.box_coder)\n",
    "\n",
    "anchor_cfg = cfg.target_assigner.anchor_generators\n",
    "anchor_generators = []\n",
    "for a_cfg in anchor_cfg:\n",
    "        anchor_generator = build_anchor_generator(a_cfg)\n",
    "        anchor_generators.append(anchor_generator)\n",
    "        \n",
    "similarity_calc = build_similarity_metric(\n",
    "        cfg.target_assigner.region_similarity_calculator #nearest_iou_similarity\n",
    ") #NearestIouSimilarity\n",
    "\n",
    "flag = 0\n",
    "\n",
    "tasks = cfg.tasks\n",
    "target_assigners = []\n",
    "for task in tasks:\n",
    "        target_assigner = TargetAssigner(\n",
    "                box_coder=box_coder,\n",
    "                anchor_generators=anchor_generators[flag : flag + task.num_class],\n",
    "                region_similarity_calculator=similarity_calc,\n",
    "                positive_fraction= 1 ,\n",
    "                sample_size=512, #sample_size=512,\n",
    "        )\n",
    "        flag += task.num_class\n",
    "        target_assigners.append(target_assigner)\n",
    "        \n",
    "anchors_by_task = [\n",
    "            t.generate_anchors(feature_map_size) for t in target_assigners\n",
    "        ]\n",
    "\n",
    "reshaped_anchors_by_task = [\n",
    "            t[\"anchors\"].reshape([-1, t[\"anchors\"].shape[-1]]) for t in anchors_by_task\n",
    "        ]\n",
    "\n",
    "anchors = [\n",
    "    torch.tensor([t], dtype=torch.float32, device=device)  for t in reshaped_anchors_by_task\n",
    "]\n",
    "# anchors = reshaped_anchors_by_task\n",
    "# anchors = torch.tensor(reshaped_anchors_by_task, dtype=torch.float32, device=device)\n",
    "# anchors = anchors.view(1, -1, 7)\n",
    "print(anchors)"
   ]
  },
  {
   "cell_type": "code",
   "execution_count": 13,
   "metadata": {},
   "outputs": [],
   "source": [
    "voxels = torch.tensor(voxels, dtype=torch.float32, device=device)\n",
    "# add batch idx to coords\n",
    "coords = np.pad(coords, ((0, 0), (1, 0)), mode='constant', constant_values=0)\n",
    "coords = torch.tensor(coords, dtype=torch.int32, device=device)\n",
    "num_points = torch.tensor(num_points, dtype=torch.int32, device=device)\n",
    "num_voxels = torch.tensor(num_voxels, dtype=torch.int64, device=device)\n"
   ]
  },
  {
   "cell_type": "code",
   "execution_count": 14,
   "metadata": {},
   "outputs": [
    {
     "name": "stdout",
     "output_type": "stream",
     "text": [
      "voxels: tensor([[[ 1.4983,  2.5877, -1.2760, -1.0000],\n",
      "         [ 0.0000,  0.0000,  0.0000,  0.0000],\n",
      "         [ 0.0000,  0.0000,  0.0000,  0.0000],\n",
      "         [ 0.0000,  0.0000,  0.0000,  0.0000],\n",
      "         [ 0.0000,  0.0000,  0.0000,  0.0000]],\n",
      "\n",
      "        [[ 1.6080,  2.7773, -1.2568, -1.0000],\n",
      "         [ 1.6137,  2.7634, -1.2560, -1.0000],\n",
      "         [ 1.6355,  2.7771, -1.2579, -1.0000],\n",
      "         [ 0.0000,  0.0000,  0.0000,  0.0000],\n",
      "         [ 0.0000,  0.0000,  0.0000,  0.0000]],\n",
      "\n",
      "        [[ 1.7201,  2.9709, -1.2324, -1.0000],\n",
      "         [ 1.7311,  2.9645, -1.2324, -1.0000],\n",
      "         [ 0.0000,  0.0000,  0.0000,  0.0000],\n",
      "         [ 0.0000,  0.0000,  0.0000,  0.0000],\n",
      "         [ 0.0000,  0.0000,  0.0000,  0.0000]],\n",
      "\n",
      "        ...,\n",
      "\n",
      "        [[ 4.4411, -7.6704, -1.0545, -1.0000],\n",
      "         [ 0.0000,  0.0000,  0.0000,  0.0000],\n",
      "         [ 0.0000,  0.0000,  0.0000,  0.0000],\n",
      "         [ 0.0000,  0.0000,  0.0000,  0.0000],\n",
      "         [ 0.0000,  0.0000,  0.0000,  0.0000]],\n",
      "\n",
      "        [[ 4.6068, -7.9566, -0.9434, -1.0000],\n",
      "         [ 0.0000,  0.0000,  0.0000,  0.0000],\n",
      "         [ 0.0000,  0.0000,  0.0000,  0.0000],\n",
      "         [ 0.0000,  0.0000,  0.0000,  0.0000],\n",
      "         [ 0.0000,  0.0000,  0.0000,  0.0000]],\n",
      "\n",
      "        [[ 5.3347, -9.2137, -0.8034, -1.0000],\n",
      "         [ 0.0000,  0.0000,  0.0000,  0.0000],\n",
      "         [ 0.0000,  0.0000,  0.0000,  0.0000],\n",
      "         [ 0.0000,  0.0000,  0.0000,  0.0000],\n",
      "         [ 0.0000,  0.0000,  0.0000,  0.0000]]], device='cuda:0') \n",
      "\n",
      "coords: tensor([[  0,  17, 851,  29],\n",
      "        [  0,  17, 855,  32],\n",
      "        [  0,  17, 859,  34],\n",
      "        ...,\n",
      "        [  0,  19, 646,  88],\n",
      "        [  0,  20, 640,  92],\n",
      "        [  0,  21, 615, 106]], device='cuda:0', dtype=torch.int32) \n",
      "\n",
      "num_points: tensor([1, 3, 2,  ..., 1, 1, 1], device='cuda:0', dtype=torch.int32)\n"
     ]
    }
   ],
   "source": [
    "print(\"voxels:\",voxels,\"\\n\\ncoords:\",coords,\"\\n\\nnum_points:\",num_points)"
   ]
  },
  {
   "cell_type": "code",
   "execution_count": 15,
   "metadata": {
    "scrolled": true
   },
   "outputs": [
    {
     "name": "stdout",
     "output_type": "stream",
     "text": [
      "anchors_by_task: (3,)\n",
      "reshaped_anchors_by_task: (3, 70400, 7)\n",
      "[1, 200, 176]\n",
      "tensor([[[  0.2000, -39.8000,  -1.0000,  ...,   3.9000,   1.5600,   0.0000],\n",
      "         [  0.2000, -39.8000,  -1.0000,  ...,   3.9000,   1.5600,   1.5700],\n",
      "         [  0.6000, -39.8000,  -1.0000,  ...,   3.9000,   1.5600,   0.0000],\n",
      "         ...,\n",
      "         [ 69.8000,  39.8000,  -1.0000,  ...,   3.9000,   1.5600,   1.5700],\n",
      "         [ 70.2000,  39.8000,  -1.0000,  ...,   3.9000,   1.5600,   0.0000],\n",
      "         [ 70.2000,  39.8000,  -1.0000,  ...,   3.9000,   1.5600,   1.5700]]],\n",
      "       device='cuda:0')\n",
      "1\n",
      "1\n"
     ]
    }
   ],
   "source": [
    "print(\"anchors_by_task:\",np.array(anchors_by_task).shape)\n",
    "# print(\"anchors_by_task:\",anchors_by_task)\n",
    "print(\"reshaped_anchors_by_task:\",np.array(reshaped_anchors_by_task).shape)\n",
    "# print(\"reshaped_anchors_by_task:\",reshaped_anchors_by_task)\n",
    "print(feature_map_size)\n",
    "# print([anchors])\n",
    "print(anchors[0])\n",
    "print(anchors[0].shape[0])\n",
    "print(anchors[2].shape[0])"
   ]
  },
  {
   "cell_type": "code",
   "execution_count": 16,
   "metadata": {},
   "outputs": [],
   "source": [
    "# print(\"grid_size:\",grid_size)\n",
    "# print(grid_size[::-1])\n",
    "example = {\n",
    "    \"anchors\": anchors,\n",
    "    \"voxels\": voxels,\n",
    "    \"num_points\": num_points,\n",
    "    \"num_voxels\": num_voxels,\n",
    "    \"coordinates\": coords,\n",
    "    \"shape\":grid_size.reshape(1,-1),\n",
    "}\n",
    "\n",
    "device2 = torch.device(cfg.local_rank)\n",
    "\n",
    "    # data = example_convert_to_torch(data, device=device)\n",
    "example2 = example_to_device(example, device2, non_blocking=False)\n",
    "    \n"
   ]
  },
  {
   "cell_type": "code",
   "execution_count": 17,
   "metadata": {
    "scrolled": true
   },
   "outputs": [
    {
     "name": "stdout",
     "output_type": "stream",
     "text": [
      "{'anchors': [tensor([[[  0.2000, -39.8000,  -1.0000,  ...,   3.9000,   1.5600,   0.0000],\n",
      "         [  0.2000, -39.8000,  -1.0000,  ...,   3.9000,   1.5600,   1.5700],\n",
      "         [  0.6000, -39.8000,  -1.0000,  ...,   3.9000,   1.5600,   0.0000],\n",
      "         ...,\n",
      "         [ 69.8000,  39.8000,  -1.0000,  ...,   3.9000,   1.5600,   1.5700],\n",
      "         [ 70.2000,  39.8000,  -1.0000,  ...,   3.9000,   1.5600,   0.0000],\n",
      "         [ 70.2000,  39.8000,  -1.0000,  ...,   3.9000,   1.5600,   1.5700]]],\n",
      "       device='cuda:0'), tensor([[[  0.2000, -39.8000,  -0.6000,  ...,   0.8000,   1.7300,   0.0000],\n",
      "         [  0.2000, -39.8000,  -0.6000,  ...,   0.8000,   1.7300,   1.5700],\n",
      "         [  0.6000, -39.8000,  -0.6000,  ...,   0.8000,   1.7300,   0.0000],\n",
      "         ...,\n",
      "         [ 69.8000,  39.8000,  -0.6000,  ...,   0.8000,   1.7300,   1.5700],\n",
      "         [ 70.2000,  39.8000,  -0.6000,  ...,   0.8000,   1.7300,   0.0000],\n",
      "         [ 70.2000,  39.8000,  -0.6000,  ...,   0.8000,   1.7300,   1.5700]]],\n",
      "       device='cuda:0'), tensor([[[  0.2000, -39.8000,  -0.6000,  ...,   1.7600,   1.7300,   0.0000],\n",
      "         [  0.2000, -39.8000,  -0.6000,  ...,   1.7600,   1.7300,   1.5700],\n",
      "         [  0.6000, -39.8000,  -0.6000,  ...,   1.7600,   1.7300,   0.0000],\n",
      "         ...,\n",
      "         [ 69.8000,  39.8000,  -0.6000,  ...,   1.7600,   1.7300,   1.5700],\n",
      "         [ 70.2000,  39.8000,  -0.6000,  ...,   1.7600,   1.7300,   0.0000],\n",
      "         [ 70.2000,  39.8000,  -0.6000,  ...,   1.7600,   1.7300,   1.5700]]],\n",
      "       device='cuda:0')], 'voxels': tensor([[[ 1.4983,  2.5877, -1.2760, -1.0000],\n",
      "         [ 0.0000,  0.0000,  0.0000,  0.0000],\n",
      "         [ 0.0000,  0.0000,  0.0000,  0.0000],\n",
      "         [ 0.0000,  0.0000,  0.0000,  0.0000],\n",
      "         [ 0.0000,  0.0000,  0.0000,  0.0000]],\n",
      "\n",
      "        [[ 1.6080,  2.7773, -1.2568, -1.0000],\n",
      "         [ 1.6137,  2.7634, -1.2560, -1.0000],\n",
      "         [ 1.6355,  2.7771, -1.2579, -1.0000],\n",
      "         [ 0.0000,  0.0000,  0.0000,  0.0000],\n",
      "         [ 0.0000,  0.0000,  0.0000,  0.0000]],\n",
      "\n",
      "        [[ 1.7201,  2.9709, -1.2324, -1.0000],\n",
      "         [ 1.7311,  2.9645, -1.2324, -1.0000],\n",
      "         [ 0.0000,  0.0000,  0.0000,  0.0000],\n",
      "         [ 0.0000,  0.0000,  0.0000,  0.0000],\n",
      "         [ 0.0000,  0.0000,  0.0000,  0.0000]],\n",
      "\n",
      "        ...,\n",
      "\n",
      "        [[ 4.4411, -7.6704, -1.0545, -1.0000],\n",
      "         [ 0.0000,  0.0000,  0.0000,  0.0000],\n",
      "         [ 0.0000,  0.0000,  0.0000,  0.0000],\n",
      "         [ 0.0000,  0.0000,  0.0000,  0.0000],\n",
      "         [ 0.0000,  0.0000,  0.0000,  0.0000]],\n",
      "\n",
      "        [[ 4.6068, -7.9566, -0.9434, -1.0000],\n",
      "         [ 0.0000,  0.0000,  0.0000,  0.0000],\n",
      "         [ 0.0000,  0.0000,  0.0000,  0.0000],\n",
      "         [ 0.0000,  0.0000,  0.0000,  0.0000],\n",
      "         [ 0.0000,  0.0000,  0.0000,  0.0000]],\n",
      "\n",
      "        [[ 5.3347, -9.2137, -0.8034, -1.0000],\n",
      "         [ 0.0000,  0.0000,  0.0000,  0.0000],\n",
      "         [ 0.0000,  0.0000,  0.0000,  0.0000],\n",
      "         [ 0.0000,  0.0000,  0.0000,  0.0000],\n",
      "         [ 0.0000,  0.0000,  0.0000,  0.0000]]], device='cuda:0'), 'num_points': tensor([1, 3, 2,  ..., 1, 1, 1], device='cuda:0', dtype=torch.int32), 'num_voxels': tensor([5149], device='cuda:0'), 'coordinates': tensor([[  0,  17, 851,  29],\n",
      "        [  0,  17, 855,  32],\n",
      "        [  0,  17, 859,  34],\n",
      "        ...,\n",
      "        [  0,  19, 646,  88],\n",
      "        [  0,  20, 640,  92],\n",
      "        [  0,  21, 615, 106]], device='cuda:0', dtype=torch.int32), 'shape': array([[1408, 1600,   40]])}\n"
     ]
    }
   ],
   "source": [
    "print(example)"
   ]
  },
  {
   "cell_type": "code",
   "execution_count": 18,
   "metadata": {},
   "outputs": [
    {
     "name": "stdout",
     "output_type": "stream",
     "text": [
      "batch_size_device: 1\n",
      "batch_anchors[0].shape torch.Size([1, 70400, 7])\n",
      "task_id: 0 batch_size: 1\n",
      "task_id: 1 batch_size: 1\n",
      "task_id: 2 batch_size: 1\n"
     ]
    }
   ],
   "source": [
    "show=False\n",
    "\n",
    "outputs = model(example, return_loss=False,rescale = not show)"
   ]
  },
  {
   "cell_type": "code",
   "execution_count": 19,
   "metadata": {},
   "outputs": [
    {
     "name": "stdout",
     "output_type": "stream",
     "text": [
      "1\n",
      "[{'box3d_lidar': tensor([[ 8.6161,  2.9603, -1.2932,  1.6654,  4.4077,  1.4612,  4.6604],\n",
      "        [13.6139,  3.2730, -1.3483,  1.6815,  4.1447,  1.4669,  4.7319],\n",
      "        [10.2371, -6.0568, -1.1134,  1.5541,  3.7384,  1.4217,  3.3654]],\n",
      "       device='cuda:0', grad_fn=<CatBackward>), 'scores': tensor([0.7953, 0.7847, 0.3829], device='cuda:0', grad_fn=<CatBackward>), 'label_preds': tensor([0, 0, 0], device='cuda:0'), 'metadata': None}]\n"
     ]
    }
   ],
   "source": [
    "print(len(outputs))\n",
    "print(outputs)"
   ]
  },
  {
   "cell_type": "code",
   "execution_count": 20,
   "metadata": {},
   "outputs": [],
   "source": [
    "#View new"
   ]
  },
  {
   "cell_type": "code",
   "execution_count": 21,
   "metadata": {},
   "outputs": [],
   "source": [
    "\n",
    "from det3d.visualization import simplevis\n",
    "\n",
    "boxes_lidar = outputs[0][\"box3d_lidar\"].detach().cpu().numpy()\n",
    "\n",
    "vis_voxel_size = [0.1, 0.1, 0.1]\n",
    "vis_point_range = [-50, -30, -3, 50, 30, 1]\n",
    "bev_map = simplevis.point_to_vis_bev(points, vis_voxel_size, vis_point_range)\n",
    "bev_map = simplevis.draw_box_in_bev(bev_map, vis_point_range, boxes_lidar, [0, 255, 0], 2)"
   ]
  },
  {
   "cell_type": "code",
   "execution_count": 30,
   "metadata": {},
   "outputs": [
    {
     "name": "stdout",
     "output_type": "stream",
     "text": [
      "[[ 8.616147   2.9603012 -1.2931671  1.6653588  4.407745   1.4611549\n",
      "   4.6604137]\n",
      " [13.6138735  3.272963  -1.3483398  1.6815423  4.1447163  1.4669423\n",
      "   4.731922 ]\n",
      " [10.237126  -6.056768  -1.1134275  1.554057   3.7383668  1.4216937\n",
      "   3.365372 ]]\n"
     ]
    }
   ],
   "source": [
    "print(boxes_lidar)"
   ]
  },
  {
   "cell_type": "code",
   "execution_count": 22,
   "metadata": {},
   "outputs": [
    {
     "data": {
      "text/plain": [
       "<matplotlib.image.AxesImage at 0x7f64ab5951d0>"
      ]
     },
     "execution_count": 22,
     "metadata": {},
     "output_type": "execute_result"
    },
    {
     "data": {
      "image/png": "[encoded data removed]",
      "text/plain": [
       "<Figure size 432x288 with 1 Axes>"
      ]
     },
     "metadata": {
      "needs_background": "light"
     },
     "output_type": "display_data"
    }
   ],
   "source": [
    "import matplotlib.pyplot as plt\n",
    "plt.imshow(bev_map)"
   ]
  },
  {
   "cell_type": "code",
   "execution_count": 23,
   "metadata": {},
   "outputs": [],
   "source": [
    "def label_to_bbox3d(labels):\n",
    "    N = len(labels)\n",
    "    ret = np.zeros((N, 8, 3), dtype=np.float32)\n",
    "\n",
    "    for i in range(N):\n",
    "        box = labels[i]\n",
    "        translation = box[4:7]\n",
    "        [h, w, l] = box[1:4]\n",
    "        rotation = [0, 0, box[-1]]\n",
    "        trackletBox = np.array([  # in velodyne coordinates around zero point and without orientation yet\n",
    "            [l / 2, l / 2, -l / 2, -l / 2, l / 2, l / 2, -l / 2, -l / 2], \\\n",
    "            [0, 0, 0, 0, -h, -h, -h, -h], \\\n",
    "            [w / 2, -w / 2, -w / 2, w / 2, w / 2, -w / 2, -w / 2, w / 2]])\n",
    "\n",
    "        # re-create 3D bounding box in velodyne coordinate system\n",
    "        yaw = rotation[2]\n",
    "        rotMat = np.array([[np.cos(yaw), 0, np.sin(yaw)],\n",
    "                           [0, 1, 0],\n",
    "                           [-np.sin(yaw), 0, np.cos(yaw)]])\n",
    "        cornerPosInVelo = np.dot(rotMat, trackletBox) + \\\n",
    "                          np.tile(translation, (8, 1)).T\n",
    "        box3d = cornerPosInVelo.transpose()\n",
    "        ret[i] = box3d\n",
    "    return ret"
   ]
  },
  {
   "cell_type": "code",
   "execution_count": 31,
   "metadata": {},
   "outputs": [
    {
     "name": "stdout",
     "output_type": "stream",
     "text": [
      "[0, 0, 0]\n",
      "[[[10.860302    2.2432413  -2.0237446 ]\n",
      "  [10.860302    2.2432413  -0.56258965]\n",
      "  [ 6.45851     2.014251   -0.56258965]\n",
      "  [ 6.45851     2.014251   -2.0237446 ]\n",
      "  [10.773785    3.9063513  -2.0237446 ]\n",
      "  [10.773785    3.9063513  -0.56258965]\n",
      "  [ 6.3719916   3.677361   -0.56258965]\n",
      "  [ 6.3719916   3.677361   -2.0237446 ]]\n",
      "\n",
      " [[15.6694145   2.3918753  -2.081811  ]\n",
      "  [15.6694145   2.3918753  -0.61486864]\n",
      "  [11.525489    2.4728293  -0.61486864]\n",
      "  [11.525489    2.4728293  -2.081811  ]\n",
      "  [15.702258    4.0730968  -2.081811  ]\n",
      "  [15.702258    4.0730968  -0.61486864]\n",
      "  [11.558332    4.154051   -0.61486864]\n",
      "  [11.558332    4.154051   -2.081811  ]]\n",
      "\n",
      " [[11.409582   -4.4066267  -1.8242743 ]\n",
      "  [11.409582   -4.4066267  -0.40258068]\n",
      "  [10.579978   -8.05178    -0.40258068]\n",
      "  [10.579978   -8.05178    -1.8242743 ]\n",
      "  [ 9.894275   -4.061756   -1.8242743 ]\n",
      "  [ 9.894275   -4.061756   -0.40258068]\n",
      "  [ 9.064671   -7.706909   -0.40258068]\n",
      "  [ 9.064671   -7.706909   -1.8242743 ]]]\n"
     ]
    }
   ],
   "source": [
    "#View\n",
    "cpu_device = torch.device(\"cpu\")\n",
    "\n",
    "label_preds = outputs[0]['label_preds'].to(cpu_device).numpy().reshape(-1,1)\n",
    "bbox3d_preds = outputs[0]['box3d_lidar'].to(cpu_device).detach().numpy()\n",
    "bbox3d_preds_corner = box_np_ops.center_to_corner_box3d(bbox3d_preds[:,:3],bbox3d_preds[:,3:6],bbox3d_preds[:,6])\n",
    "# print(bbox3d_preds_corner)\n",
    "# print(label_preds)\n",
    "# pred =np.hstack((label_preds,bbox3d_preds_corner)) \n",
    "# print(pred)\n",
    "label_name = [int(lb[0]) for lb in label_preds]\n",
    "print(label_name)\n",
    "print(bbox3d_preds_corner)"
   ]
  },
  {
   "cell_type": "code",
   "execution_count": 25,
   "metadata": {},
   "outputs": [],
   "source": [
    "# bbox3d = label_to_bbox3d(pred)\n",
    "# bbox3d_lidar = []\n",
    "        # print(\"bbox3d:\",bbox3d)\n",
    "# for box in bbox3d:\n",
    "#     box = project_camera2velo(box, calibs)\n",
    "#     bbox3d_lidar.append(box)\n",
    "# bbox3d_lidar = np.array(bbox3d)\n",
    "# print(bbox3d_lidar)\n",
    "\n",
    "bbox3d_lidar = bbox3d_preds_corner"
   ]
  },
  {
   "cell_type": "code",
   "execution_count": 26,
   "metadata": {},
   "outputs": [],
   "source": [
    "\n",
    "colors_dict = {\n",
    "    'Car': 'b',\n",
    "    'Tram': 'r',\n",
    "    'Cyclist': 'g',\n",
    "    'Van': 'c',\n",
    "    'Truck': 'm',\n",
    "    'Pedestrian': 'y',\n",
    "    'Sitter': 'k'\n",
    "}\n",
    "\n",
    "axes_limits = [\n",
    "    [-70.4, 70.4], # X axis range\n",
    "    [-40, 40], # Y axis range\n",
    "    [-10, 10]   # Z axis range\n",
    "]\n",
    "\n",
    "axes_str = ['X', 'Y', 'Z']\n",
    "\n",
    "pos_cls = ['Car']\n",
    "ign_cls = ['Van', 'Truck', 'Tram']"
   ]
  },
  {
   "cell_type": "code",
   "execution_count": 27,
   "metadata": {},
   "outputs": [],
   "source": [
    "def draw_box(pyplot_axis, vertices, axes=[0, 1, 2], color='black'):\n",
    "    \"\"\"\n",
    "    Draws a bounding 3D box in a pyplot axis.\n",
    "\n",
    "    Parameters\n",
    "    ----------\n",
    "    pyplot_axis : Pyplot axis to draw in.\n",
    "    vertices    : Array 8 box vertices containing x, y, z coordinates.\n",
    "    axes        : Axes to use. Defaults to `[0, 1, 2]`, e.g. x, y and z axes.\n",
    "    color       : Drawing color. Defaults to `black`.\n",
    "    \"\"\"\n",
    "    vertices = np.transpose(vertices)[axes, :]\n",
    "    connections = [\n",
    "        [0, 1], [1, 2], [2, 3], [3, 0],  # Lower plane parallel to Z=0 plane\n",
    "        [4, 5], [5, 6], [6, 7], [7, 4],  # Upper plane parallel to Z=0 plane\n",
    "        [0, 4], [1, 5], [2, 6], [3, 7]  # Connections between upper and lower planes\n",
    "    ]\n",
    "    for connection in connections:\n",
    "        pyplot_axis.plot(*vertices[:, connection], c=color, lw=1.5)"
   ]
  },
  {
   "cell_type": "code",
   "execution_count": 28,
   "metadata": {},
   "outputs": [],
   "source": [
    "import matplotlib.pyplot as plt\n",
    "from mpl_toolkits import mplot3d\n",
    "from mpl_toolkits.mplot3d import Axes3D\n",
    "def display_single_lidar(data, example_id, label_name, boxes=None, points=0.2, view=False, calib=False ):\n",
    "    # points          : Fraction of lidar points to use. Defaults to `0.2`, e.g. 20%.\n",
    "\n",
    "    points_step = int(1. / points)\n",
    "    point_size = 0.01 * (1. / points)\n",
    "    velo_range = range(0, data.shape[0], points_step)\n",
    "\n",
    "    #print(points_step)\n",
    "    #print(point_size)\n",
    "    #print(velo_range)\n",
    "\n",
    "    def draw_point_cloud(ax, title, axes=[0, 1, 2], xlim3d=None, ylim3d=None, zlim3d=None):\n",
    "        \"\"\"\n",
    "        Convenient method for drawing various point cloud projections as a part of frame statistics.\n",
    "        \"\"\"\n",
    "        ax.scatter(*np.transpose(data[:, axes]), s=point_size, c=data[:, 3], cmap='gray')\n",
    "\n",
    "        ax.set_title(title)\n",
    "        ax.set_xlabel('{} axis'.format(axes_str[axes[0]]))\n",
    "        ax.set_ylabel('{} axis'.format(axes_str[axes[1]]))\n",
    "        if len(axes) > 2:\n",
    "            ax.set_xlim3d(*axes_limits[axes[0]])\n",
    "            ax.set_ylim3d(*axes_limits[axes[1]])\n",
    "            ax.set_zlim3d(*axes_limits[axes[2]])\n",
    "            ax.set_zlabel('{} axis'.format(axes_str[axes[2]]))\n",
    "        else:\n",
    "            ax.set_xlim(*axes_limits[axes[0]])\n",
    "            ax.set_ylim(*axes_limits[axes[1]])\n",
    "\n",
    "        # User specified limits\n",
    "        if xlim3d != None:\n",
    "            ax.set_xlim3d(xlim3d)\n",
    "        if ylim3d != None:\n",
    "            ax.set_ylim3d(ylim3d)\n",
    "        if zlim3d != None:\n",
    "            ax.set_zlim3d(zlim3d)\n",
    "\n",
    "        for i in range(boxes.shape[0]):\n",
    "            if label_name[i] in colors_dict:\n",
    "                draw_box(ax, boxes[i], axes=axes, color=colors_dict[label_name[i]])\n",
    "            else:\n",
    "                draw_box(ax, boxes[i], axes=axes, color='brown')\n",
    "    # Draw point cloud data as 3D plot\n",
    "    f2 = plt.figure(figsize=(10, 5))\n",
    "    ax2 = f2.add_subplot(111, projection='3d')\n",
    "    ax2.view_init(45,45)\n",
    "\n",
    "    # Hide grid lines\n",
    "    ax2.grid(False)\n",
    "#   plt.axis('off')\n",
    "\n",
    "    draw_point_cloud(ax2, 'Velodyne scan', xlim3d=axes_limits[0])\n",
    "    plt.show()\n",
    "\n",
    "    if view:\n",
    "        # Draw point cloud data as plane projections\n",
    "        #         axe3.view_init(35,100)\n",
    "        f, ax3 = plt.subplots(3, 1, figsize=(15, 25))\n",
    "        draw_point_cloud(\n",
    "            ax3[0],\n",
    "            'Velodyne scan, XZ projection (Y = 0), the car is moving in direction left to right',\n",
    "            axes=[0, 2]  # X and Z axes\n",
    "        )\n",
    "        draw_point_cloud(\n",
    "            ax3[1],\n",
    "            'Velodyne scan, XY projection (Z = 0), the car is moving in direction left to right',\n",
    "            axes=[0, 1]  # X and Y axes\n",
    "        )\n",
    "        draw_point_cloud(\n",
    "            ax3[2],\n",
    "            'Velodyne scan, YZ projection (X = 0), the car is moving towards the graph plane',\n",
    "            axes=[1, 2]  # Y and Z axes\n",
    "        )\n",
    "#         if calib:\n",
    "#             fig_save_file = os.path.join(fig_save_dir, example_id, 'calib.png')\n",
    "#         else:\n",
    "#             fig_save_file = os.path.join(fig_save_dir, example_id, 'predictions.png')\n",
    "        plt.show()\n",
    "#         plt.savefig(fig_save_file)\n",
    "        #plt.clf() # 使用 plt.clf() 清理掉 axes\n",
    "        #plt.cla()\n",
    "#         plt.close('all')\n",
    "        #plt.close(0)"
   ]
  },
  {
   "cell_type": "code",
   "execution_count": 29,
   "metadata": {},
   "outputs": [
    {
     "data": {
      "image/png": "[encoded data removed]",
      "text/plain": [
       "<Figure size 720x360 with 1 Axes>"
      ]
     },
     "metadata": {
      "needs_background": "light"
     },
     "output_type": "display_data"
    },
    {
     "data": {
      "image/png": "[encoded data removed]",
      "text/plain": [
       "<Figure size 1080x1800 with 3 Axes>"
      ]
     },
     "metadata": {
      "needs_background": "light"
     },
     "output_type": "display_data"
    }
   ],
   "source": [
    "display_single_lidar(points, 0, label_name, bbox3d_lidar, points=.01, view=True)"
   ]
  }
 ],
 "metadata": {
  "kernelspec": {
   "display_name": "Python 3",
   "language": "python",
   "name": "python3"
  },
  "language_info": {
   "codemirror_mode": {
    "name": "ipython",
    "version": 3
   },
   "file_extension": ".py",
   "mimetype": "text/x-python",
   "name": "python",
   "nbconvert_exporter": "python",
   "pygments_lexer": "ipython3",
   "version": "3.6.9"
  }
 },
 "nbformat": 4,
 "nbformat_minor": 4
}

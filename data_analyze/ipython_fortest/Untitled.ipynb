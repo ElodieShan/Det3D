{
 "cells": [
  {
   "cell_type": "code",
   "execution_count": 1,
   "metadata": {},
   "outputs": [],
   "source": [
    "# Function： DataSet boxes analyse\n",
    "# Editor：ElodieShan\n",
    "# Date:2020-05-01\n"
   ]
  },
  {
   "cell_type": "code",
   "execution_count": 2,
   "metadata": {},
   "outputs": [],
   "source": [
    "import pickle\n",
    "import numpy as np\n",
    "\n",
    "#load info \n",
    "info_path = \"/home/elodie/nuScenes_DATASET/pkl/infos_train_10sweeps_withvelo.pkl\"\n",
    "class_name = \"car\"\n",
    "\n",
    "with open(info_path, \"rb\") as f:\n",
    "    nusc_infos = pickle.load(f)\n"
   ]
  },
  {
   "cell_type": "code",
   "execution_count": 4,
   "metadata": {},
   "outputs": [],
   "source": [
    "import matplotlib \n",
    "import matplotlib.pyplot as plt\n",
    "\n",
    "#get data\n",
    "classes = ['car', 'truck', 'construction_vehicle', 'bus', 'trailer']\n",
    "num_bins = 100 \n",
    "gt_boxes_list_all = []\n",
    "\n",
    "for class_name in classes:\n",
    "    gt_boxes_list = []\n",
    "    for info in nusc_infos:\n",
    "        mask = np.array([s == class_name for s in info[\"gt_names\"]], dtype=np.bool_)\n",
    "        gt_boxes_list.append(info[\"gt_boxes\"][mask])\n",
    "    gt_boxes_list = np.concatenate(gt_boxes_list, axis=0)\n",
    "    gt_boxes_list_all.append(gt_boxes_list)\n"
   ]
  },
  {
   "cell_type": "code",
   "execution_count": 16,
   "metadata": {},
   "outputs": [],
   "source": [
    "def get_hist_pic(data, num_bins, x_lable, class_name, data_type):\n",
    "    hist,bins = np.histogram(data,num_bins) #return:频数，分箱的边界\n",
    "    count = 0 \n",
    "    for i in data:\n",
    "        if i ==0:\n",
    "            count = count +1\n",
    "    print(count)\n",
    "    print(hist)\n",
    "    hist_max = max(hist)\n",
    "    hist_max_index = hist.tolist().index(hist_max)\n",
    "\n",
    "    x = [(bins[i+1]+bins[i])/2 for i in range(len(bins)-1)]    \n",
    "    msg = \"hist max: \" + str(round(x[hist_max_index],4)) + \"(\" + str(hist_max) +\")\"+ \" in [\" + str(round(bins[hist_max_index],4)) + \":\" + str(round(bins[hist_max_index+1],4)) + \"]\"\n",
    "\n",
    "    plt.bar(x,hist,width=5/num_bins)\n",
    "    plt.xlabel(x_lable)\n",
    "    plt.ylabel('num')\n",
    "    plt.ylim([0,hist_max + int(hist_max/5)])\n",
    "    plt.title(\"[\" + data_type + \"] \" + class_name + \": \" +  x_lable + '\\n' + msg)\n",
    "\n",
    "    plt.savefig(\"./result/\" + data_type + \"_\" + class_name + \"_\" +  x_lable + \".jpg\")\n",
    "    plt.show()\n",
    "    plt.cla()\n"
   ]
  },
  {
   "cell_type": "code",
   "execution_count": 10,
   "metadata": {},
   "outputs": [],
   "source": [
    "def get_lw_ratio_distribution(info, classes, data_type):#db info\n",
    "\n",
    "    #start analyza\n",
    "    num_bins = 100\n",
    "    x_label = \"length_width_ratio\"\n",
    "    for class_name in classes:\n",
    "        gt_infos = info[class_name]\n",
    "        gt_box_lw_ratio = [gt_info[\"box3d_lidar\"][4]/gt_info[\"box3d_lidar\"][3]\n",
    "                                 for gt_info in gt_infos]\n",
    "        get_hist_pic(gt_box_lw_ratio, num_bins, 'length_width-ratio', class_name, data_type)\n",
    "\n"
   ]
  },
  {
   "cell_type": "code",
   "execution_count": 8,
   "metadata": {},
   "outputs": [],
   "source": [
    "# get_w_l_distribution(classes,gt_boxes_list_all)"
   ]
  },
  {
   "cell_type": "code",
   "execution_count": 1,
   "metadata": {},
   "outputs": [],
   "source": [
    "# 查看box内点数与距离的关系\n",
    "def get_distance_2d(x,y):\n",
    "    return np.sqrt(np.sum([x**2,y**2]))\n",
    "\n",
    "def get_points_num_distribution(info, classes, distances): # db info\n",
    "    #start analyza\n",
    "    num_bins = 10\n",
    "    x_label = \"point_num\"\n",
    "    num_points_max = 10\n",
    "    for class_name in classes:\n",
    "        gt_infos = info[class_name]\n",
    "        num_points_in_gt = [int(gt_info['num_points_in_gt']) for gt_info in gt_infos]\n",
    "        mask = np.array([num_points<num_points_max\n",
    "                                 for num_points in num_points_in_gt], dtype=np.bool_)\n",
    "        num_points_in_gt = np.array(num_points_in_gt)\n",
    "        num_points_in_gt = num_points_in_gt[mask]\n",
    "        gt_infos = np.array(gt_infos)[mask]\n",
    "        gt_box_center_dis = [get_distance_2d(gt_info[\"box3d_lidar\"][0],gt_info[\"box3d_lidar\"][1]) \n",
    "                                 for gt_info in gt_infos]\n",
    "        for i in range(len(distances)-1):           \n",
    "            mask = np.array([dis>distances[i] and dis<distances[i+1] \n",
    "                                 for dis in gt_box_center_dis], dtype=np.bool_)\n",
    "            num_points_in_range = num_points_in_gt[mask]\n",
    "            x_label_new = x_label + \" in [\" + str(distances[i]) + \"~\" + str(distances[i+1])  + \" ]  \"\n",
    "            get_hist_pic(num_points_in_range, num_bins, x_label_new, class_name)"
   ]
  },
  {
   "cell_type": "code",
   "execution_count": 3,
   "metadata": {},
   "outputs": [
    {
     "name": "stdout",
     "output_type": "stream",
     "text": [
      "{'name': 'Car', 'path': 'gt_database/3_Car_0.bin', 'image_idx': 3, 'gt_idx': 0, 'box3d_lidar': array([13.51070263, -0.98177998, -0.9094899 ,  1.73000002,  4.1500001 ,\n",
      "        1.57000005,  1.62      ]), 'num_points_in_gt': 674, 'difficulty': 0, 'group_id': 1}\n"
     ]
    }
   ],
   "source": [
    "import pickle\n",
    "import numpy as np\n",
    "from det3d.core import box_np_ops\n",
    "import matplotlib \n",
    "import matplotlib.pyplot as plt\n",
    "#load db info \n",
    "# db_info_path = \"/home/elodie/nuScenes_DATASET/pkl/dbinfos_train_10sweeps_withoutvelo.pkl\"\n",
    "db_info_path = \"/home/elodie/KITTI_DATASET/object/dbinfos_train.pkl\"\n",
    "data_type = \"KITTI\"\n",
    "with open(db_info_path, \"rb\") as f:\n",
    "    db_nusc_infos = pickle.load(f)\n",
    "\n",
    "print(db_nusc_infos['Car'][0])"
   ]
  },
  {
   "cell_type": "code",
   "execution_count": 17,
   "metadata": {},
   "outputs": [
    {
     "name": "stdout",
     "output_type": "stream",
     "text": [
      "[  0.  25.  50.  75. 100.]\n",
      "0\n",
      "[  32   15    0    0   71   36    0    6   11   65   11    8    3   48\n",
      "  293   50  262   75  238  152  177  137  455  422  469 1048  469  686\n",
      "  768  442  732  488  565  584  572  754  576  602  588  390  314  313\n",
      "  245  322  138  262   21   41   44   62    4   22   57   21   36   32\n",
      "    0   28    8    0   14   13    0   27    0    0    0    2    0    0\n",
      "    0    0    0    0    0    0    0    0    0    0    0    0    0    0\n",
      "    0    0    0    0    0    0    0    0    0    0    0    0    0    0\n",
      "    0   31]\n"
     ]
    },
    {
     "data": {
      "image/png": "[encoded data removed]",
      "text/plain": [
       "<Figure size 432x288 with 1 Axes>"
      ]
     },
     "metadata": {
      "needs_background": "light"
     },
     "output_type": "display_data"
    },
    {
     "name": "stdout",
     "output_type": "stream",
     "text": [
      "0\n",
      "[ 25   0   0   0   0  27   0   0   0   0   0  10  36  31  67  20   0   0\n",
      "   0   0   0   0   0   4   0  30   0  30   0   0 159   0  19   0   0   0\n",
      "   0   0   0   0   0   0   0   0   0   0   0   0   0   0   0  13   0   0\n",
      "   0   0   0   0   0   0   0   0   0   0   0   0   0   0   0   0   0   0\n",
      "   0   0   0   0   0   0   0   0   0   0   0   0   0   0   0   0   0   0\n",
      "   0   0   0   0   0   0   0   0   0  17]\n"
     ]
    },
    {
     "data": {
      "image/png": "[encoded data removed]",
      "text/plain": [
       "<Figure size 432x288 with 1 Axes>"
      ]
     },
     "metadata": {
      "needs_background": "light"
     },
     "output_type": "display_data"
    },
    {
     "name": "stdout",
     "output_type": "stream",
     "text": [
      "0\n",
      "[ 8  0  0  0  0  0  0  0  0  0  0  0 27 14  0 11  0  0 40  8  0  0 22 20\n",
      " 33 27 11  4 21 10 62 48  0  0 22 93  0 14 66  3 36  5  3 16 57 60 39  0\n",
      " 27 52  0 33 12  0 36  0 38  0  0  0  0  0  1  0  0  1 34  0  0 29  0  0\n",
      "  0  0  6 47  0  2 18  0 39  5  0 12 25  0  0  0  0  0  0  6  0  0  0  6\n",
      "  0  0 54 34]\n"
     ]
    },
    {
     "data": {
      "image/png": "[encoded data removed]",
      "text/plain": [
       "<Figure size 432x288 with 1 Axes>"
      ]
     },
     "metadata": {
      "needs_background": "light"
     },
     "output_type": "display_data"
    },
    {
     "name": "stdout",
     "output_type": "stream",
     "text": [
      "0\n",
      "[19  0 19  0  0  0  0  0  0  0  0  0  0  0  0  0  0  0  0  0  0 21  0 18\n",
      "  0 47  0  0  0  0  0  0  0  0  0  0 21  0  0  0  0  0  0  0  0 28  0  0\n",
      "  0  0  0  0  0  0  0  0  0  0  0  0  0  0  0  0  0  0  0  0  0  0  0  0\n",
      "  0  0  0  0  0  0  0  0  0  0  0  0  0  0  0  0  0  0  0  0  0  0  0  0\n",
      "  0  0  0 51]\n"
     ]
    },
    {
     "data": {
      "image/png": "[encoded data removed]",
      "text/plain": [
       "<Figure size 432x288 with 1 Axes>"
      ]
     },
     "metadata": {
      "needs_background": "light"
     },
     "output_type": "display_data"
    },
    {
     "data": {
      "image/png": "[encoded data removed]",
      "text/plain": [
       "<Figure size 432x288 with 1 Axes>"
      ]
     },
     "metadata": {
      "needs_background": "light"
     },
     "output_type": "display_data"
    }
   ],
   "source": [
    "# classes = ['car', 'truck', 'bus', 'trailer','pedestrian','motorcycle', 'bicycle','traffic_cone']\n",
    "data_type = \"KITTI\"\n",
    "classes = ['Car', 'Truck', 'Van', 'Tram', 'Misc', 'Pedestrian', 'Person_sitting', 'Cyclist']\n",
    "distances = np.linspace(0,100,5)\n",
    "print(distances)\n",
    "\n",
    "# get_points_num_distribution(db_nusc_infos,classes,distances)\n",
    "get_lw_ratio_distribution(db_nusc_infos, classes, data_type)"
   ]
  }
 ],
 "metadata": {
  "kernelspec": {
   "display_name": "Python 3",
   "language": "python",
   "name": "python3"
  },
  "language_info": {
   "codemirror_mode": {
    "name": "ipython",
    "version": 3
   },
   "file_extension": ".py",
   "mimetype": "text/x-python",
   "name": "python",
   "nbconvert_exporter": "python",
   "pygments_lexer": "ipython3",
   "version": "3.6.9"
  }
 },
 "nbformat": 4,
 "nbformat_minor": 4
}
